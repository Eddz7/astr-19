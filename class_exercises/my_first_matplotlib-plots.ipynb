{
 "cells": [
  {
   "cell_type": "markdown",
   "id": "c066800f",
   "metadata": {},
   "source": [
    "# Making multipanel plots using matplotlib"
   ]
  },
  {
   "cell_type": "markdown",
   "id": "01386713",
   "metadata": {},
   "source": [
    "First, we import numpy and matplotlib as usual"
   ]
  },
  {
   "cell_type": "code",
   "execution_count": null,
   "id": "a43164c3",
   "metadata": {},
   "outputs": [],
   "source": [
    "%matplotlib inline\n",
    "import numpy as np\n",
    "import matplotlib.pyplot as plt"
   ]
  },
  {
   "cell_type": "markdown",
   "id": "f258c8bd",
   "metadata": {},
   "source": [
    "Then, we define an array of angles, and their sines and cosines using numpy. This time we will use linspace."
   ]
  },
  {
   "cell_type": "code",
   "execution_count": null,
   "id": "ad816a28",
   "metadata": {},
   "outputs": [],
   "source": [
    "x = np.linspace(0,2*np.pi, 100)\n",
    "print(x[-1],2*np.pi)\n",
    "y = np.sin(x)\n",
    "z = np.cos(x)\n",
    "w = np.sin(4*x)\n",
    "v = np.cos(4*x)"
   ]
  },
  {
   "cell_type": "markdown",
   "id": "2b5ed489",
   "metadata": {},
   "source": [
    "### Plot a sine curve"
   ]
  },
  {
   "cell_type": "code",
   "execution_count": null,
   "id": "0b3b5f4b",
   "metadata": {
    "scrolled": true
   },
   "outputs": [],
   "source": [
    "#make a simple plot\n",
    "plt.plot(x,np.sin(x))\n",
    "plt.xlabel(\"x\")\n",
    "plt.ylabel(\"sin(x)\")\n",
    "plt.xlim([0,2*np.pi])\n",
    "plt.ylim([-1.,1.])"
   ]
  },
  {
   "cell_type": "code",
   "execution_count": null,
   "id": "641218eb",
   "metadata": {},
   "outputs": [],
   "source": [
    "#make a simple plot\n",
    "plt.plot(x,y,label=\"sin(x)\")\n",
    "plt.plot(x,z,label=\"cos(x)\")\n",
    "#plt.plot(x,w)\n",
    "#plt.plot(x,v)\n",
    "plt.xlabel(\"x\")\n",
    "plt.ylabel(\"y,z,w,v\")\n",
    "plt.xlim([0,2*np.pi])\n",
    "plt.ylim([-1.1,1.1])\n",
    "plt.legend()"
   ]
  },
  {
   "cell_type": "code",
   "execution_count": null,
   "id": "4c274f4b",
   "metadata": {},
   "outputs": [],
   "source": []
  }
 ],
 "metadata": {
  "kernelspec": {
   "display_name": "Python 3 (ipykernel)",
   "language": "python",
   "name": "python3"
  },
  "language_info": {
   "codemirror_mode": {
    "name": "ipython",
    "version": 3
   },
   "file_extension": ".py",
   "mimetype": "text/x-python",
   "name": "python",
   "nbconvert_exporter": "python",
   "pygments_lexer": "ipython3",
   "version": "3.10.4"
  }
 },
 "nbformat": 4,
 "nbformat_minor": 5
}
