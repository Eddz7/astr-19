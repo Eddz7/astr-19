{
 "cells": [
  {
   "cell_type": "code",
   "execution_count": null,
   "id": "636c7421",
   "metadata": {},
   "outputs": [],
   "source": [
    "import numpy as np"
   ]
  },
  {
   "cell_type": "code",
   "execution_count": null,
   "id": "3f5244bd",
   "metadata": {},
   "outputs": [],
   "source": [
    "n = 10 #define an integer 10\n",
    "x = np.arange(n,dtype=float) #define an array x=[0, 9]"
   ]
  },
  {
   "cell_type": "code",
   "execution_count": null,
   "id": "e58e0832",
   "metadata": {},
   "outputs": [],
   "source": [
    "print(n)\n",
    "print(x)"
   ]
  },
  {
   "cell_type": "code",
   "execution_count": null,
   "id": "db4d468c",
   "metadata": {},
   "outputs": [],
   "source": []
  }
 ],
 "metadata": {
  "kernelspec": {
   "display_name": "Python 3 (ipykernel)",
   "language": "python",
   "name": "python3"
  },
  "language_info": {
   "codemirror_mode": {
    "name": "ipython",
    "version": 3
   },
   "file_extension": ".py",
   "mimetype": "text/x-python",
   "name": "python",
   "nbconvert_exporter": "python",
   "pygments_lexer": "ipython3",
   "version": "3.10.4"
  }
 },
 "nbformat": 4,
 "nbformat_minor": 5
}
