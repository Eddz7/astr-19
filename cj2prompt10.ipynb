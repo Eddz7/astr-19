{
 "cells": [
  {
   "cell_type": "markdown",
   "id": "a653d145",
   "metadata": {},
   "source": [
    "# Session 10 Prompt"
   ]
  },
  {
   "cell_type": "code",
   "execution_count": 1,
   "id": "8b937a12",
   "metadata": {},
   "outputs": [],
   "source": [
    "import matplotlib.pyplot as plt\n",
    "import numpy as np"
   ]
  },
  {
   "cell_type": "code",
   "execution_count": 2,
   "id": "593105d3",
   "metadata": {},
   "outputs": [
    {
     "data": {
      "image/png": "[encoded data removed]",
      "text/plain": [
       "<Figure size 432x288 with 1 Axes>"
      ]
     },
     "metadata": {
      "needs_background": "light"
     },
     "output_type": "display_data"
    }
   ],
   "source": [
    "x = np.random.laplace(0, 3, 1000)\n",
    "plt.hist(x, bins = 100, edgecolor=\"yellow\")\n",
    "plt.xlabel('x')\n",
    "plt.ylabel('num per bin')\n",
    "plt.savefig('prompt10.pdf')"
   ]
  }
 ],
 "metadata": {
  "kernelspec": {
   "display_name": "Python 3 (ipykernel)",
   "language": "python",
   "name": "python3"
  },
  "language_info": {
   "codemirror_mode": {
    "name": "ipython",
    "version": 3
   },
   "file_extension": ".py",
   "mimetype": "text/x-python",
   "name": "python",
   "nbconvert_exporter": "python",
   "pygments_lexer": "ipython3",
   "version": "3.10.4"
  }
 },
 "nbformat": 4,
 "nbformat_minor": 5
}
