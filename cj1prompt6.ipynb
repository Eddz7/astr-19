{
 "cells": [
  {
   "cell_type": "markdown",
   "id": "33a06564",
   "metadata": {},
   "source": [
    "# Session 6 Prompt"
   ]
  },
  {
   "cell_type": "markdown",
   "id": "9a6d66f6",
   "metadata": {},
   "source": [
    "Create a Jupyter Notebook where you define functions that return sin(x) and cos(x). Create a third python cell that will tabulate sin(x) and cos(x) using these previously defined functions vs. x, where x is tabulated between 0 and 2pi with a thousand entries. Write a fourth python cell that will use a for loop to print out the first 10 values of x, sin(x), and cos(x) in columns. "
   ]
  },
  {
   "cell_type": "markdown",
   "id": "d40742d5",
   "metadata": {},
   "source": [
    "defines a function sin that takes in an argument x and returns the value sin(x)"
   ]
  },
  {
   "cell_type": "code",
   "execution_count": null,
   "id": "1e814bfc",
   "metadata": {},
   "outputs": [],
   "source": [
    "import numpy as np\n",
    "def sin(x):\n",
    "    return np.sin(x)"
   ]
  },
  {
   "cell_type": "markdown",
   "id": "44f5a6b4",
   "metadata": {},
   "source": [
    "defines a function cos that takes in an argument x and returns the value cos(x)"
   ]
  },
  {
   "cell_type": "code",
   "execution_count": null,
   "id": "b8f629e8",
   "metadata": {},
   "outputs": [],
   "source": [
    "def cos(x):\n",
    "    return np.cos(x)"
   ]
  },
  {
   "cell_type": "markdown",
   "id": "3c201003",
   "metadata": {},
   "source": [
    "create an array table that tabulates values between 0 and 2 pi with a thousand entries"
   ]
  },
  {
   "cell_type": "code",
   "execution_count": null,
   "id": "dbc95844",
   "metadata": {},
   "outputs": [],
   "source": [
    "table = np.linspace(0, 2*np.pi, 1000)"
   ]
  },
  {
   "cell_type": "markdown",
   "id": "b0877e3a",
   "metadata": {},
   "source": [
    "prints out the first 10 values of x, sin(x), and cos(x)"
   ]
  },
  {
   "cell_type": "code",
   "execution_count": null,
   "id": "3dd43789",
   "metadata": {},
   "outputs": [],
   "source": [
    "print(f\"\\t{'x'} \\t\\t{'sin(x)'} \\t\\t{'cos(x)'}\")\n",
    "for i in range(10):\n",
    "    print(f\"{table[i]:16f} {sin(table[i]):15f} {cos(table[i]):15f}\")"
   ]
  }
 ],
 "metadata": {
  "kernelspec": {
   "display_name": "Python 3 (ipykernel)",
   "language": "python",
   "name": "python3"
  },
  "language_info": {
   "codemirror_mode": {
    "name": "ipython",
    "version": 3
   },
   "file_extension": ".py",
   "mimetype": "text/x-python",
   "name": "python",
   "nbconvert_exporter": "python",
   "pygments_lexer": "ipython3",
   "version": "3.10.4"
  }
 },
 "nbformat": 4,
 "nbformat_minor": 5
}
